{
 "cells": [
  {
   "cell_type": "code",
   "execution_count": 8,
   "id": "7121aebf-83b2-4818-8c73-118a27a33e05",
   "metadata": {},
   "outputs": [],
   "source": [
    "import numpy as np\n",
    "import pandas as pd\n",
    "import seaborn as sns\n",
    "import matplotlib.pyplot as plt\n",
    "\n",
    "from sklearn.neighbors import KNeighborsClassifier\n",
    "from sklearn.model_selection import train_test_split"
   ]
  },
  {
   "cell_type": "code",
   "execution_count": 9,
   "id": "1706a6ef-f274-45a4-a0ee-c5c70b36488d",
   "metadata": {},
   "outputs": [],
   "source": [
    "data = pd.read_csv(\"C:\\\\Users\\\\HP\\\\OneDrive\\\\Desktop\\\\Documents\\\\CountriesDATA.csv\", decimal = \",\")"
   ]
  },
  {
   "cell_type": "code",
   "execution_count": 10,
   "id": "d12d38fb-8bcc-4809-b1a0-7bba1c49e8f2",
   "metadata": {},
   "outputs": [
    {
     "data": {
      "text/html": [
       "<div>\n",
       "<style scoped>\n",
       "    .dataframe tbody tr th:only-of-type {\n",
       "        vertical-align: middle;\n",
       "    }\n",
       "\n",
       "    .dataframe tbody tr th {\n",
       "        vertical-align: top;\n",
       "    }\n",
       "\n",
       "    .dataframe thead th {\n",
       "        text-align: right;\n",
       "    }\n",
       "</style>\n",
       "<table border=\"1\" class=\"dataframe\">\n",
       "  <thead>\n",
       "    <tr style=\"text-align: right;\">\n",
       "      <th></th>\n",
       "      <th>Country</th>\n",
       "      <th>Region</th>\n",
       "      <th>Population</th>\n",
       "      <th>Area (sq. mi.)</th>\n",
       "      <th>Pop. Density (per sq. mi.)</th>\n",
       "      <th>Coastline (coast/area ratio)</th>\n",
       "      <th>Net migration</th>\n",
       "      <th>Infant mortality (per 1000 births)</th>\n",
       "      <th>GDP ($ per capita)</th>\n",
       "      <th>Literacy (%)</th>\n",
       "      <th>...</th>\n",
       "      <th>Arable (%)</th>\n",
       "      <th>Crops (%)</th>\n",
       "      <th>Other (%)</th>\n",
       "      <th>Climate</th>\n",
       "      <th>Birthrate</th>\n",
       "      <th>Deathrate</th>\n",
       "      <th>Agriculture</th>\n",
       "      <th>Industry</th>\n",
       "      <th>Service</th>\n",
       "      <th>Development status</th>\n",
       "    </tr>\n",
       "  </thead>\n",
       "  <tbody>\n",
       "    <tr>\n",
       "      <th>0</th>\n",
       "      <td>Afghanistan</td>\n",
       "      <td>ASIA (EX. NEAR EAST)</td>\n",
       "      <td>31056997</td>\n",
       "      <td>647500</td>\n",
       "      <td>48.0</td>\n",
       "      <td>0.00</td>\n",
       "      <td>23.06</td>\n",
       "      <td>163.07</td>\n",
       "      <td>700.0</td>\n",
       "      <td>36.0</td>\n",
       "      <td>...</td>\n",
       "      <td>12.13</td>\n",
       "      <td>0.22</td>\n",
       "      <td>87.65</td>\n",
       "      <td>1.0</td>\n",
       "      <td>46.60</td>\n",
       "      <td>20.34</td>\n",
       "      <td>0.380</td>\n",
       "      <td>0.240</td>\n",
       "      <td>0.380</td>\n",
       "      <td>0</td>\n",
       "    </tr>\n",
       "    <tr>\n",
       "      <th>1</th>\n",
       "      <td>Albania</td>\n",
       "      <td>EASTERN EUROPE</td>\n",
       "      <td>3581655</td>\n",
       "      <td>28748</td>\n",
       "      <td>124.6</td>\n",
       "      <td>1.26</td>\n",
       "      <td>-4.93</td>\n",
       "      <td>21.52</td>\n",
       "      <td>4500.0</td>\n",
       "      <td>86.5</td>\n",
       "      <td>...</td>\n",
       "      <td>21.09</td>\n",
       "      <td>4.42</td>\n",
       "      <td>74.49</td>\n",
       "      <td>3.0</td>\n",
       "      <td>15.11</td>\n",
       "      <td>5.22</td>\n",
       "      <td>0.232</td>\n",
       "      <td>0.188</td>\n",
       "      <td>0.579</td>\n",
       "      <td>0</td>\n",
       "    </tr>\n",
       "    <tr>\n",
       "      <th>2</th>\n",
       "      <td>Algeria</td>\n",
       "      <td>NORTHERN AFRICA</td>\n",
       "      <td>32930091</td>\n",
       "      <td>2381740</td>\n",
       "      <td>13.8</td>\n",
       "      <td>0.04</td>\n",
       "      <td>-0.39</td>\n",
       "      <td>31.00</td>\n",
       "      <td>6000.0</td>\n",
       "      <td>70.0</td>\n",
       "      <td>...</td>\n",
       "      <td>3.22</td>\n",
       "      <td>0.25</td>\n",
       "      <td>96.53</td>\n",
       "      <td>1.0</td>\n",
       "      <td>17.14</td>\n",
       "      <td>4.61</td>\n",
       "      <td>0.101</td>\n",
       "      <td>0.600</td>\n",
       "      <td>0.298</td>\n",
       "      <td>0</td>\n",
       "    </tr>\n",
       "    <tr>\n",
       "      <th>3</th>\n",
       "      <td>American Samoa</td>\n",
       "      <td>OCEANIA</td>\n",
       "      <td>57794</td>\n",
       "      <td>199</td>\n",
       "      <td>290.4</td>\n",
       "      <td>58.29</td>\n",
       "      <td>-20.71</td>\n",
       "      <td>9.27</td>\n",
       "      <td>8000.0</td>\n",
       "      <td>97.0</td>\n",
       "      <td>...</td>\n",
       "      <td>10.00</td>\n",
       "      <td>15.00</td>\n",
       "      <td>75.00</td>\n",
       "      <td>2.0</td>\n",
       "      <td>22.46</td>\n",
       "      <td>3.27</td>\n",
       "      <td>NaN</td>\n",
       "      <td>NaN</td>\n",
       "      <td>NaN</td>\n",
       "      <td>0</td>\n",
       "    </tr>\n",
       "    <tr>\n",
       "      <th>4</th>\n",
       "      <td>Andorra</td>\n",
       "      <td>WESTERN EUROPE</td>\n",
       "      <td>71201</td>\n",
       "      <td>468</td>\n",
       "      <td>152.1</td>\n",
       "      <td>0.00</td>\n",
       "      <td>6.60</td>\n",
       "      <td>4.05</td>\n",
       "      <td>19000.0</td>\n",
       "      <td>100.0</td>\n",
       "      <td>...</td>\n",
       "      <td>2.22</td>\n",
       "      <td>0.00</td>\n",
       "      <td>97.78</td>\n",
       "      <td>3.0</td>\n",
       "      <td>8.71</td>\n",
       "      <td>6.25</td>\n",
       "      <td>NaN</td>\n",
       "      <td>NaN</td>\n",
       "      <td>NaN</td>\n",
       "      <td>1</td>\n",
       "    </tr>\n",
       "  </tbody>\n",
       "</table>\n",
       "<p>5 rows × 21 columns</p>\n",
       "</div>"
      ],
      "text/plain": [
       "           Country                               Region  Population  \\\n",
       "0     Afghanistan         ASIA (EX. NEAR EAST)             31056997   \n",
       "1         Albania   EASTERN EUROPE                          3581655   \n",
       "2         Algeria   NORTHERN AFRICA                        32930091   \n",
       "3  American Samoa   OCEANIA                                   57794   \n",
       "4         Andorra   WESTERN EUROPE                            71201   \n",
       "\n",
       "   Area (sq. mi.)  Pop. Density (per sq. mi.)  Coastline (coast/area ratio)  \\\n",
       "0          647500                        48.0                          0.00   \n",
       "1           28748                       124.6                          1.26   \n",
       "2         2381740                        13.8                          0.04   \n",
       "3             199                       290.4                         58.29   \n",
       "4             468                       152.1                          0.00   \n",
       "\n",
       "   Net migration  Infant mortality (per 1000 births)  GDP ($ per capita)  \\\n",
       "0          23.06                              163.07               700.0   \n",
       "1          -4.93                               21.52              4500.0   \n",
       "2          -0.39                               31.00              6000.0   \n",
       "3         -20.71                                9.27              8000.0   \n",
       "4           6.60                                4.05             19000.0   \n",
       "\n",
       "   Literacy (%)  ...  Arable (%)  Crops (%)  Other (%)  Climate  Birthrate  \\\n",
       "0          36.0  ...       12.13       0.22      87.65      1.0      46.60   \n",
       "1          86.5  ...       21.09       4.42      74.49      3.0      15.11   \n",
       "2          70.0  ...        3.22       0.25      96.53      1.0      17.14   \n",
       "3          97.0  ...       10.00      15.00      75.00      2.0      22.46   \n",
       "4         100.0  ...        2.22       0.00      97.78      3.0       8.71   \n",
       "\n",
       "   Deathrate  Agriculture  Industry  Service  Development status  \n",
       "0      20.34        0.380     0.240    0.380                   0  \n",
       "1       5.22        0.232     0.188    0.579                   0  \n",
       "2       4.61        0.101     0.600    0.298                   0  \n",
       "3       3.27          NaN       NaN      NaN                   0  \n",
       "4       6.25          NaN       NaN      NaN                   1  \n",
       "\n",
       "[5 rows x 21 columns]"
      ]
     },
     "execution_count": 10,
     "metadata": {},
     "output_type": "execute_result"
    }
   ],
   "source": [
    "data.head()"
   ]
  },
  {
   "cell_type": "code",
   "execution_count": 11,
   "id": "cf96f1e4-fbe9-4531-91e2-623e97d028a7",
   "metadata": {},
   "outputs": [
    {
     "data": {
      "text/html": [
       "<div>\n",
       "<style scoped>\n",
       "    .dataframe tbody tr th:only-of-type {\n",
       "        vertical-align: middle;\n",
       "    }\n",
       "\n",
       "    .dataframe tbody tr th {\n",
       "        vertical-align: top;\n",
       "    }\n",
       "\n",
       "    .dataframe thead th {\n",
       "        text-align: right;\n",
       "    }\n",
       "</style>\n",
       "<table border=\"1\" class=\"dataframe\">\n",
       "  <thead>\n",
       "    <tr style=\"text-align: right;\">\n",
       "      <th></th>\n",
       "      <th>Country</th>\n",
       "      <th>Region</th>\n",
       "      <th>Population</th>\n",
       "      <th>Area (sq. mi.)</th>\n",
       "      <th>Pop. Density (per sq. mi.)</th>\n",
       "      <th>Coastline (coast/area ratio)</th>\n",
       "      <th>Net migration</th>\n",
       "      <th>Infant mortality (per 1000 births)</th>\n",
       "      <th>GDP ($ per capita)</th>\n",
       "      <th>Literacy (%)</th>\n",
       "      <th>...</th>\n",
       "      <th>Arable (%)</th>\n",
       "      <th>Crops (%)</th>\n",
       "      <th>Other (%)</th>\n",
       "      <th>Climate</th>\n",
       "      <th>Birthrate</th>\n",
       "      <th>Deathrate</th>\n",
       "      <th>Agriculture</th>\n",
       "      <th>Industry</th>\n",
       "      <th>Service</th>\n",
       "      <th>Development status</th>\n",
       "    </tr>\n",
       "  </thead>\n",
       "  <tbody>\n",
       "    <tr>\n",
       "      <th>222</th>\n",
       "      <td>West Bank</td>\n",
       "      <td>NEAR EAST</td>\n",
       "      <td>2460492</td>\n",
       "      <td>5860</td>\n",
       "      <td>419.9</td>\n",
       "      <td>0.00</td>\n",
       "      <td>2.98</td>\n",
       "      <td>19.62</td>\n",
       "      <td>800.0</td>\n",
       "      <td>NaN</td>\n",
       "      <td>...</td>\n",
       "      <td>16.90</td>\n",
       "      <td>18.97</td>\n",
       "      <td>64.13</td>\n",
       "      <td>3.0</td>\n",
       "      <td>31.67</td>\n",
       "      <td>3.92</td>\n",
       "      <td>0.090</td>\n",
       "      <td>0.280</td>\n",
       "      <td>0.630</td>\n",
       "      <td>0</td>\n",
       "    </tr>\n",
       "    <tr>\n",
       "      <th>223</th>\n",
       "      <td>Western Sahara</td>\n",
       "      <td>NORTHERN AFRICA</td>\n",
       "      <td>273008</td>\n",
       "      <td>266000</td>\n",
       "      <td>1.0</td>\n",
       "      <td>0.42</td>\n",
       "      <td>NaN</td>\n",
       "      <td>NaN</td>\n",
       "      <td>NaN</td>\n",
       "      <td>NaN</td>\n",
       "      <td>...</td>\n",
       "      <td>0.02</td>\n",
       "      <td>0.00</td>\n",
       "      <td>99.98</td>\n",
       "      <td>1.0</td>\n",
       "      <td>NaN</td>\n",
       "      <td>NaN</td>\n",
       "      <td>NaN</td>\n",
       "      <td>NaN</td>\n",
       "      <td>0.400</td>\n",
       "      <td>0</td>\n",
       "    </tr>\n",
       "    <tr>\n",
       "      <th>224</th>\n",
       "      <td>Yemen</td>\n",
       "      <td>NEAR EAST</td>\n",
       "      <td>21456188</td>\n",
       "      <td>527970</td>\n",
       "      <td>40.6</td>\n",
       "      <td>0.36</td>\n",
       "      <td>0.00</td>\n",
       "      <td>61.50</td>\n",
       "      <td>800.0</td>\n",
       "      <td>50.2</td>\n",
       "      <td>...</td>\n",
       "      <td>2.78</td>\n",
       "      <td>0.24</td>\n",
       "      <td>96.98</td>\n",
       "      <td>1.0</td>\n",
       "      <td>42.89</td>\n",
       "      <td>8.30</td>\n",
       "      <td>0.135</td>\n",
       "      <td>0.472</td>\n",
       "      <td>0.393</td>\n",
       "      <td>0</td>\n",
       "    </tr>\n",
       "    <tr>\n",
       "      <th>225</th>\n",
       "      <td>Zambia</td>\n",
       "      <td>SUB-SAHARAN AFRICA</td>\n",
       "      <td>11502010</td>\n",
       "      <td>752614</td>\n",
       "      <td>15.3</td>\n",
       "      <td>0.00</td>\n",
       "      <td>0.00</td>\n",
       "      <td>88.29</td>\n",
       "      <td>800.0</td>\n",
       "      <td>80.6</td>\n",
       "      <td>...</td>\n",
       "      <td>7.08</td>\n",
       "      <td>0.03</td>\n",
       "      <td>92.90</td>\n",
       "      <td>2.0</td>\n",
       "      <td>41.00</td>\n",
       "      <td>19.93</td>\n",
       "      <td>0.220</td>\n",
       "      <td>0.290</td>\n",
       "      <td>0.489</td>\n",
       "      <td>0</td>\n",
       "    </tr>\n",
       "    <tr>\n",
       "      <th>226</th>\n",
       "      <td>Zimbabwe</td>\n",
       "      <td>SUB-SAHARAN AFRICA</td>\n",
       "      <td>12236805</td>\n",
       "      <td>390580</td>\n",
       "      <td>31.3</td>\n",
       "      <td>0.00</td>\n",
       "      <td>0.00</td>\n",
       "      <td>67.69</td>\n",
       "      <td>1900.0</td>\n",
       "      <td>90.7</td>\n",
       "      <td>...</td>\n",
       "      <td>8.32</td>\n",
       "      <td>0.34</td>\n",
       "      <td>91.34</td>\n",
       "      <td>2.0</td>\n",
       "      <td>28.01</td>\n",
       "      <td>21.84</td>\n",
       "      <td>0.179</td>\n",
       "      <td>0.243</td>\n",
       "      <td>0.579</td>\n",
       "      <td>0</td>\n",
       "    </tr>\n",
       "  </tbody>\n",
       "</table>\n",
       "<p>5 rows × 21 columns</p>\n",
       "</div>"
      ],
      "text/plain": [
       "             Country                               Region  Population  \\\n",
       "222       West Bank   NEAR EAST                               2460492   \n",
       "223  Western Sahara   NORTHERN AFRICA                          273008   \n",
       "224           Yemen   NEAR EAST                              21456188   \n",
       "225          Zambia   SUB-SAHARAN AFRICA                     11502010   \n",
       "226        Zimbabwe   SUB-SAHARAN AFRICA                     12236805   \n",
       "\n",
       "     Area (sq. mi.)  Pop. Density (per sq. mi.)  Coastline (coast/area ratio)  \\\n",
       "222            5860                       419.9                          0.00   \n",
       "223          266000                         1.0                          0.42   \n",
       "224          527970                        40.6                          0.36   \n",
       "225          752614                        15.3                          0.00   \n",
       "226          390580                        31.3                          0.00   \n",
       "\n",
       "     Net migration  Infant mortality (per 1000 births)  GDP ($ per capita)  \\\n",
       "222           2.98                               19.62               800.0   \n",
       "223            NaN                                 NaN                 NaN   \n",
       "224           0.00                               61.50               800.0   \n",
       "225           0.00                               88.29               800.0   \n",
       "226           0.00                               67.69              1900.0   \n",
       "\n",
       "     Literacy (%)  ...  Arable (%)  Crops (%)  Other (%)  Climate  Birthrate  \\\n",
       "222           NaN  ...       16.90      18.97      64.13      3.0      31.67   \n",
       "223           NaN  ...        0.02       0.00      99.98      1.0        NaN   \n",
       "224          50.2  ...        2.78       0.24      96.98      1.0      42.89   \n",
       "225          80.6  ...        7.08       0.03      92.90      2.0      41.00   \n",
       "226          90.7  ...        8.32       0.34      91.34      2.0      28.01   \n",
       "\n",
       "     Deathrate  Agriculture  Industry  Service  Development status  \n",
       "222       3.92        0.090     0.280    0.630                   0  \n",
       "223        NaN          NaN       NaN    0.400                   0  \n",
       "224       8.30        0.135     0.472    0.393                   0  \n",
       "225      19.93        0.220     0.290    0.489                   0  \n",
       "226      21.84        0.179     0.243    0.579                   0  \n",
       "\n",
       "[5 rows x 21 columns]"
      ]
     },
     "execution_count": 11,
     "metadata": {},
     "output_type": "execute_result"
    }
   ],
   "source": [
    "data.tail()"
   ]
  },
  {
   "cell_type": "code",
   "execution_count": 12,
   "id": "c40c3506-2d2a-4e81-83ef-5e3bd9b873ad",
   "metadata": {},
   "outputs": [
    {
     "data": {
      "text/plain": [
       "(227, 21)"
      ]
     },
     "execution_count": 12,
     "metadata": {},
     "output_type": "execute_result"
    }
   ],
   "source": [
    "data.shape"
   ]
  },
  {
   "cell_type": "code",
   "execution_count": 13,
   "id": "23d90fb8-a81d-411a-a4fd-44dd052afc70",
   "metadata": {},
   "outputs": [
    {
     "data": {
      "text/html": [
       "<div>\n",
       "<style scoped>\n",
       "    .dataframe tbody tr th:only-of-type {\n",
       "        vertical-align: middle;\n",
       "    }\n",
       "\n",
       "    .dataframe tbody tr th {\n",
       "        vertical-align: top;\n",
       "    }\n",
       "\n",
       "    .dataframe thead th {\n",
       "        text-align: right;\n",
       "    }\n",
       "</style>\n",
       "<table border=\"1\" class=\"dataframe\">\n",
       "  <thead>\n",
       "    <tr style=\"text-align: right;\">\n",
       "      <th></th>\n",
       "      <th>Population</th>\n",
       "      <th>Area (sq. mi.)</th>\n",
       "      <th>Pop. Density (per sq. mi.)</th>\n",
       "      <th>Coastline (coast/area ratio)</th>\n",
       "      <th>Net migration</th>\n",
       "      <th>Infant mortality (per 1000 births)</th>\n",
       "      <th>GDP ($ per capita)</th>\n",
       "      <th>Literacy (%)</th>\n",
       "      <th>Phones (per 1000)</th>\n",
       "      <th>Arable (%)</th>\n",
       "      <th>Crops (%)</th>\n",
       "      <th>Other (%)</th>\n",
       "      <th>Climate</th>\n",
       "      <th>Birthrate</th>\n",
       "      <th>Deathrate</th>\n",
       "      <th>Agriculture</th>\n",
       "      <th>Industry</th>\n",
       "      <th>Service</th>\n",
       "      <th>Development status</th>\n",
       "    </tr>\n",
       "  </thead>\n",
       "  <tbody>\n",
       "    <tr>\n",
       "      <th>count</th>\n",
       "      <td>2.270000e+02</td>\n",
       "      <td>2.270000e+02</td>\n",
       "      <td>227.000000</td>\n",
       "      <td>227.000000</td>\n",
       "      <td>224.000000</td>\n",
       "      <td>224.000000</td>\n",
       "      <td>226.000000</td>\n",
       "      <td>209.000000</td>\n",
       "      <td>223.000000</td>\n",
       "      <td>225.000000</td>\n",
       "      <td>225.000000</td>\n",
       "      <td>225.000000</td>\n",
       "      <td>205.000000</td>\n",
       "      <td>224.000000</td>\n",
       "      <td>223.000000</td>\n",
       "      <td>212.000000</td>\n",
       "      <td>211.000000</td>\n",
       "      <td>212.000000</td>\n",
       "      <td>227.000000</td>\n",
       "    </tr>\n",
       "    <tr>\n",
       "      <th>mean</th>\n",
       "      <td>2.874028e+07</td>\n",
       "      <td>5.982270e+05</td>\n",
       "      <td>379.047137</td>\n",
       "      <td>21.165330</td>\n",
       "      <td>0.038125</td>\n",
       "      <td>35.506964</td>\n",
       "      <td>9689.823009</td>\n",
       "      <td>82.838278</td>\n",
       "      <td>236.061435</td>\n",
       "      <td>13.797111</td>\n",
       "      <td>4.564222</td>\n",
       "      <td>81.638311</td>\n",
       "      <td>2.139024</td>\n",
       "      <td>22.114732</td>\n",
       "      <td>9.241345</td>\n",
       "      <td>0.150844</td>\n",
       "      <td>0.282711</td>\n",
       "      <td>0.565283</td>\n",
       "      <td>0.259912</td>\n",
       "    </tr>\n",
       "    <tr>\n",
       "      <th>std</th>\n",
       "      <td>1.178913e+08</td>\n",
       "      <td>1.790282e+06</td>\n",
       "      <td>1660.185825</td>\n",
       "      <td>72.286863</td>\n",
       "      <td>4.889269</td>\n",
       "      <td>35.389899</td>\n",
       "      <td>10049.138513</td>\n",
       "      <td>19.722173</td>\n",
       "      <td>227.991829</td>\n",
       "      <td>13.040402</td>\n",
       "      <td>8.361470</td>\n",
       "      <td>16.140835</td>\n",
       "      <td>0.699397</td>\n",
       "      <td>11.176716</td>\n",
       "      <td>4.990026</td>\n",
       "      <td>0.146798</td>\n",
       "      <td>0.138272</td>\n",
       "      <td>0.165841</td>\n",
       "      <td>0.439555</td>\n",
       "    </tr>\n",
       "    <tr>\n",
       "      <th>min</th>\n",
       "      <td>7.026000e+03</td>\n",
       "      <td>2.000000e+00</td>\n",
       "      <td>0.000000</td>\n",
       "      <td>0.000000</td>\n",
       "      <td>-20.990000</td>\n",
       "      <td>2.290000</td>\n",
       "      <td>500.000000</td>\n",
       "      <td>17.600000</td>\n",
       "      <td>0.200000</td>\n",
       "      <td>0.000000</td>\n",
       "      <td>0.000000</td>\n",
       "      <td>33.330000</td>\n",
       "      <td>1.000000</td>\n",
       "      <td>7.290000</td>\n",
       "      <td>2.290000</td>\n",
       "      <td>0.000000</td>\n",
       "      <td>0.020000</td>\n",
       "      <td>0.062000</td>\n",
       "      <td>0.000000</td>\n",
       "    </tr>\n",
       "    <tr>\n",
       "      <th>25%</th>\n",
       "      <td>4.376240e+05</td>\n",
       "      <td>4.647500e+03</td>\n",
       "      <td>29.150000</td>\n",
       "      <td>0.100000</td>\n",
       "      <td>-0.927500</td>\n",
       "      <td>8.150000</td>\n",
       "      <td>1900.000000</td>\n",
       "      <td>70.600000</td>\n",
       "      <td>37.800000</td>\n",
       "      <td>3.220000</td>\n",
       "      <td>0.190000</td>\n",
       "      <td>71.650000</td>\n",
       "      <td>2.000000</td>\n",
       "      <td>12.672500</td>\n",
       "      <td>5.910000</td>\n",
       "      <td>0.037750</td>\n",
       "      <td>0.193000</td>\n",
       "      <td>0.429250</td>\n",
       "      <td>0.000000</td>\n",
       "    </tr>\n",
       "    <tr>\n",
       "      <th>50%</th>\n",
       "      <td>4.786994e+06</td>\n",
       "      <td>8.660000e+04</td>\n",
       "      <td>78.800000</td>\n",
       "      <td>0.730000</td>\n",
       "      <td>0.000000</td>\n",
       "      <td>21.000000</td>\n",
       "      <td>5550.000000</td>\n",
       "      <td>92.500000</td>\n",
       "      <td>176.200000</td>\n",
       "      <td>10.420000</td>\n",
       "      <td>1.030000</td>\n",
       "      <td>85.700000</td>\n",
       "      <td>2.000000</td>\n",
       "      <td>18.790000</td>\n",
       "      <td>7.840000</td>\n",
       "      <td>0.099000</td>\n",
       "      <td>0.272000</td>\n",
       "      <td>0.571000</td>\n",
       "      <td>0.000000</td>\n",
       "    </tr>\n",
       "    <tr>\n",
       "      <th>75%</th>\n",
       "      <td>1.749777e+07</td>\n",
       "      <td>4.418110e+05</td>\n",
       "      <td>190.150000</td>\n",
       "      <td>10.345000</td>\n",
       "      <td>0.997500</td>\n",
       "      <td>55.705000</td>\n",
       "      <td>15700.000000</td>\n",
       "      <td>98.000000</td>\n",
       "      <td>389.650000</td>\n",
       "      <td>20.000000</td>\n",
       "      <td>4.440000</td>\n",
       "      <td>95.440000</td>\n",
       "      <td>3.000000</td>\n",
       "      <td>29.820000</td>\n",
       "      <td>10.605000</td>\n",
       "      <td>0.221000</td>\n",
       "      <td>0.341000</td>\n",
       "      <td>0.678500</td>\n",
       "      <td>1.000000</td>\n",
       "    </tr>\n",
       "    <tr>\n",
       "      <th>max</th>\n",
       "      <td>1.313974e+09</td>\n",
       "      <td>1.707520e+07</td>\n",
       "      <td>16271.500000</td>\n",
       "      <td>870.660000</td>\n",
       "      <td>23.060000</td>\n",
       "      <td>191.190000</td>\n",
       "      <td>55100.000000</td>\n",
       "      <td>100.000000</td>\n",
       "      <td>1035.600000</td>\n",
       "      <td>62.110000</td>\n",
       "      <td>50.680000</td>\n",
       "      <td>100.000000</td>\n",
       "      <td>4.000000</td>\n",
       "      <td>50.730000</td>\n",
       "      <td>29.740000</td>\n",
       "      <td>0.769000</td>\n",
       "      <td>0.906000</td>\n",
       "      <td>0.954000</td>\n",
       "      <td>1.000000</td>\n",
       "    </tr>\n",
       "  </tbody>\n",
       "</table>\n",
       "</div>"
      ],
      "text/plain": [
       "         Population  Area (sq. mi.)  Pop. Density (per sq. mi.)  \\\n",
       "count  2.270000e+02    2.270000e+02                  227.000000   \n",
       "mean   2.874028e+07    5.982270e+05                  379.047137   \n",
       "std    1.178913e+08    1.790282e+06                 1660.185825   \n",
       "min    7.026000e+03    2.000000e+00                    0.000000   \n",
       "25%    4.376240e+05    4.647500e+03                   29.150000   \n",
       "50%    4.786994e+06    8.660000e+04                   78.800000   \n",
       "75%    1.749777e+07    4.418110e+05                  190.150000   \n",
       "max    1.313974e+09    1.707520e+07                16271.500000   \n",
       "\n",
       "       Coastline (coast/area ratio)  Net migration  \\\n",
       "count                    227.000000     224.000000   \n",
       "mean                      21.165330       0.038125   \n",
       "std                       72.286863       4.889269   \n",
       "min                        0.000000     -20.990000   \n",
       "25%                        0.100000      -0.927500   \n",
       "50%                        0.730000       0.000000   \n",
       "75%                       10.345000       0.997500   \n",
       "max                      870.660000      23.060000   \n",
       "\n",
       "       Infant mortality (per 1000 births)  GDP ($ per capita)  Literacy (%)  \\\n",
       "count                          224.000000          226.000000    209.000000   \n",
       "mean                            35.506964         9689.823009     82.838278   \n",
       "std                             35.389899        10049.138513     19.722173   \n",
       "min                              2.290000          500.000000     17.600000   \n",
       "25%                              8.150000         1900.000000     70.600000   \n",
       "50%                             21.000000         5550.000000     92.500000   \n",
       "75%                             55.705000        15700.000000     98.000000   \n",
       "max                            191.190000        55100.000000    100.000000   \n",
       "\n",
       "       Phones (per 1000)  Arable (%)   Crops (%)   Other (%)     Climate  \\\n",
       "count         223.000000  225.000000  225.000000  225.000000  205.000000   \n",
       "mean          236.061435   13.797111    4.564222   81.638311    2.139024   \n",
       "std           227.991829   13.040402    8.361470   16.140835    0.699397   \n",
       "min             0.200000    0.000000    0.000000   33.330000    1.000000   \n",
       "25%            37.800000    3.220000    0.190000   71.650000    2.000000   \n",
       "50%           176.200000   10.420000    1.030000   85.700000    2.000000   \n",
       "75%           389.650000   20.000000    4.440000   95.440000    3.000000   \n",
       "max          1035.600000   62.110000   50.680000  100.000000    4.000000   \n",
       "\n",
       "        Birthrate   Deathrate  Agriculture    Industry     Service  \\\n",
       "count  224.000000  223.000000   212.000000  211.000000  212.000000   \n",
       "mean    22.114732    9.241345     0.150844    0.282711    0.565283   \n",
       "std     11.176716    4.990026     0.146798    0.138272    0.165841   \n",
       "min      7.290000    2.290000     0.000000    0.020000    0.062000   \n",
       "25%     12.672500    5.910000     0.037750    0.193000    0.429250   \n",
       "50%     18.790000    7.840000     0.099000    0.272000    0.571000   \n",
       "75%     29.820000   10.605000     0.221000    0.341000    0.678500   \n",
       "max     50.730000   29.740000     0.769000    0.906000    0.954000   \n",
       "\n",
       "       Development status  \n",
       "count          227.000000  \n",
       "mean             0.259912  \n",
       "std              0.439555  \n",
       "min              0.000000  \n",
       "25%              0.000000  \n",
       "50%              0.000000  \n",
       "75%              1.000000  \n",
       "max              1.000000  "
      ]
     },
     "execution_count": 13,
     "metadata": {},
     "output_type": "execute_result"
    }
   ],
   "source": [
    "data.describe()"
   ]
  },
  {
   "cell_type": "code",
   "execution_count": 14,
   "id": "2b97c698-5111-4d38-8a8c-e2c5963059c1",
   "metadata": {},
   "outputs": [
    {
     "data": {
      "text/plain": [
       "Country                               227\n",
       "Region                                 11\n",
       "Population                            227\n",
       "Area (sq. mi.)                        226\n",
       "Pop. Density (per sq. mi.)            219\n",
       "Coastline (coast/area ratio)          151\n",
       "Net migration                         157\n",
       "Infant mortality (per 1000 births)    220\n",
       "GDP ($ per capita)                    130\n",
       "Literacy (%)                          140\n",
       "Phones (per 1000)                     214\n",
       "Arable (%)                            203\n",
       "Crops (%)                             162\n",
       "Other (%)                             209\n",
       "Climate                                 6\n",
       "Birthrate                             220\n",
       "Deathrate                             201\n",
       "Agriculture                           150\n",
       "Industry                              155\n",
       "Service                               167\n",
       "Development status                      2\n",
       "dtype: int64"
      ]
     },
     "execution_count": 14,
     "metadata": {},
     "output_type": "execute_result"
    }
   ],
   "source": [
    "data.nunique()"
   ]
  },
  {
   "cell_type": "code",
   "execution_count": 15,
   "id": "bc1ed862-f7c4-4113-b39c-493d2979f81c",
   "metadata": {},
   "outputs": [
    {
     "data": {
      "text/plain": [
       "Country                                0\n",
       "Region                                 0\n",
       "Population                             0\n",
       "Area (sq. mi.)                         0\n",
       "Pop. Density (per sq. mi.)             0\n",
       "Coastline (coast/area ratio)           0\n",
       "Net migration                          3\n",
       "Infant mortality (per 1000 births)     3\n",
       "GDP ($ per capita)                     1\n",
       "Literacy (%)                          18\n",
       "Phones (per 1000)                      4\n",
       "Arable (%)                             2\n",
       "Crops (%)                              2\n",
       "Other (%)                              2\n",
       "Climate                               22\n",
       "Birthrate                              3\n",
       "Deathrate                              4\n",
       "Agriculture                           15\n",
       "Industry                              16\n",
       "Service                               15\n",
       "Development status                     0\n",
       "dtype: int64"
      ]
     },
     "execution_count": 15,
     "metadata": {},
     "output_type": "execute_result"
    }
   ],
   "source": [
    "data.isnull().sum()"
   ]
  },
  {
   "cell_type": "code",
   "execution_count": 16,
   "id": "7a9dc511-c844-4c03-b839-f5a956e8bf4c",
   "metadata": {},
   "outputs": [
    {
     "name": "stdout",
     "output_type": "stream",
     "text": [
      "         Population  Area (sq. mi.)  Pop. Density (per sq. mi.)  \\\n",
      "count  2.270000e+02          227.00                      227.00   \n",
      "mean   2.874028e+07       598226.96                      379.05   \n",
      "std    1.178913e+08      1790282.24                     1660.19   \n",
      "min    7.026000e+03            2.00                        0.00   \n",
      "25%    4.376240e+05         4647.50                       29.15   \n",
      "50%    4.786994e+06        86600.00                       78.80   \n",
      "75%    1.749777e+07       441811.00                      190.15   \n",
      "max    1.313974e+09     17075200.00                    16271.50   \n",
      "\n",
      "       Coastline (coast/area ratio)  Net migration  \\\n",
      "count                        227.00         224.00   \n",
      "mean                          21.17           0.04   \n",
      "std                           72.29           4.89   \n",
      "min                            0.00         -20.99   \n",
      "25%                            0.10          -0.93   \n",
      "50%                            0.73           0.00   \n",
      "75%                           10.34           1.00   \n",
      "max                          870.66          23.06   \n",
      "\n",
      "       Infant mortality (per 1000 births)  GDP ($ per capita)  Literacy (%)  \\\n",
      "count                              224.00              226.00        209.00   \n",
      "mean                                35.51             9689.82         82.84   \n",
      "std                                 35.39            10049.14         19.72   \n",
      "min                                  2.29              500.00         17.60   \n",
      "25%                                  8.15             1900.00         70.60   \n",
      "50%                                 21.00             5550.00         92.50   \n",
      "75%                                 55.70            15700.00         98.00   \n",
      "max                                191.19            55100.00        100.00   \n",
      "\n",
      "       Phones (per 1000)  Arable (%)  Crops (%)  Other (%)  Climate  \\\n",
      "count             223.00      225.00     225.00     225.00   205.00   \n",
      "mean              236.06       13.80       4.56      81.64     2.14   \n",
      "std               227.99       13.04       8.36      16.14     0.70   \n",
      "min                 0.20        0.00       0.00      33.33     1.00   \n",
      "25%                37.80        3.22       0.19      71.65     2.00   \n",
      "50%               176.20       10.42       1.03      85.70     2.00   \n",
      "75%               389.65       20.00       4.44      95.44     3.00   \n",
      "max              1035.60       62.11      50.68     100.00     4.00   \n",
      "\n",
      "       Birthrate  Deathrate  Agriculture  Industry  Service  \\\n",
      "count     224.00     223.00       212.00    211.00   212.00   \n",
      "mean       22.11       9.24         0.15      0.28     0.57   \n",
      "std        11.18       4.99         0.15      0.14     0.17   \n",
      "min         7.29       2.29         0.00      0.02     0.06   \n",
      "25%        12.67       5.91         0.04      0.19     0.43   \n",
      "50%        18.79       7.84         0.10      0.27     0.57   \n",
      "75%        29.82      10.60         0.22      0.34     0.68   \n",
      "max        50.73      29.74         0.77      0.91     0.95   \n",
      "\n",
      "       Development status  \n",
      "count              227.00  \n",
      "mean                 0.26  \n",
      "std                  0.44  \n",
      "min                  0.00  \n",
      "25%                  0.00  \n",
      "50%                  0.00  \n",
      "75%                  1.00  \n",
      "max                  1.00  \n"
     ]
    }
   ],
   "source": [
    "# view summary statistics in numerical variables\n",
    "\n",
    "print(round(data.describe(),2))"
   ]
  },
  {
   "cell_type": "code",
   "execution_count": 33,
   "id": "1f2c047e-13a3-4919-8a34-4e5281bf66b9",
   "metadata": {},
   "outputs": [
    {
     "data": {
      "text/html": [
       "<div>\n",
       "<style scoped>\n",
       "    .dataframe tbody tr th:only-of-type {\n",
       "        vertical-align: middle;\n",
       "    }\n",
       "\n",
       "    .dataframe tbody tr th {\n",
       "        vertical-align: top;\n",
       "    }\n",
       "\n",
       "    .dataframe thead th {\n",
       "        text-align: right;\n",
       "    }\n",
       "</style>\n",
       "<table border=\"1\" class=\"dataframe\">\n",
       "  <thead>\n",
       "    <tr style=\"text-align: right;\">\n",
       "      <th></th>\n",
       "      <th>Population</th>\n",
       "      <th>Area (sq. mi.)</th>\n",
       "      <th>Pop. Density (per sq. mi.)</th>\n",
       "      <th>Net migration</th>\n",
       "      <th>Infant mortality (per 1000 births)</th>\n",
       "      <th>GDP ($ per capita)</th>\n",
       "      <th>Literacy (%)</th>\n",
       "      <th>Phones (per 1000)</th>\n",
       "      <th>Birthrate</th>\n",
       "      <th>Deathrate</th>\n",
       "      <th>Industry</th>\n",
       "    </tr>\n",
       "  </thead>\n",
       "  <tbody>\n",
       "    <tr>\n",
       "      <th>0</th>\n",
       "      <td>31056997</td>\n",
       "      <td>647500</td>\n",
       "      <td>48.0</td>\n",
       "      <td>23.06</td>\n",
       "      <td>163.07</td>\n",
       "      <td>700.0</td>\n",
       "      <td>36.0</td>\n",
       "      <td>3.2</td>\n",
       "      <td>46.60</td>\n",
       "      <td>20.34</td>\n",
       "      <td>0.240</td>\n",
       "    </tr>\n",
       "    <tr>\n",
       "      <th>1</th>\n",
       "      <td>3581655</td>\n",
       "      <td>28748</td>\n",
       "      <td>124.6</td>\n",
       "      <td>-4.93</td>\n",
       "      <td>21.52</td>\n",
       "      <td>4500.0</td>\n",
       "      <td>86.5</td>\n",
       "      <td>71.2</td>\n",
       "      <td>15.11</td>\n",
       "      <td>5.22</td>\n",
       "      <td>0.188</td>\n",
       "    </tr>\n",
       "    <tr>\n",
       "      <th>2</th>\n",
       "      <td>32930091</td>\n",
       "      <td>2381740</td>\n",
       "      <td>13.8</td>\n",
       "      <td>-0.39</td>\n",
       "      <td>31.00</td>\n",
       "      <td>6000.0</td>\n",
       "      <td>70.0</td>\n",
       "      <td>78.1</td>\n",
       "      <td>17.14</td>\n",
       "      <td>4.61</td>\n",
       "      <td>0.600</td>\n",
       "    </tr>\n",
       "    <tr>\n",
       "      <th>3</th>\n",
       "      <td>57794</td>\n",
       "      <td>199</td>\n",
       "      <td>290.4</td>\n",
       "      <td>-20.71</td>\n",
       "      <td>9.27</td>\n",
       "      <td>8000.0</td>\n",
       "      <td>97.0</td>\n",
       "      <td>259.5</td>\n",
       "      <td>22.46</td>\n",
       "      <td>3.27</td>\n",
       "      <td>NaN</td>\n",
       "    </tr>\n",
       "    <tr>\n",
       "      <th>4</th>\n",
       "      <td>71201</td>\n",
       "      <td>468</td>\n",
       "      <td>152.1</td>\n",
       "      <td>6.60</td>\n",
       "      <td>4.05</td>\n",
       "      <td>19000.0</td>\n",
       "      <td>100.0</td>\n",
       "      <td>497.2</td>\n",
       "      <td>8.71</td>\n",
       "      <td>6.25</td>\n",
       "      <td>NaN</td>\n",
       "    </tr>\n",
       "  </tbody>\n",
       "</table>\n",
       "</div>"
      ],
      "text/plain": [
       "   Population  Area (sq. mi.)  Pop. Density (per sq. mi.)  Net migration  \\\n",
       "0    31056997          647500                        48.0          23.06   \n",
       "1     3581655           28748                       124.6          -4.93   \n",
       "2    32930091         2381740                        13.8          -0.39   \n",
       "3       57794             199                       290.4         -20.71   \n",
       "4       71201             468                       152.1           6.60   \n",
       "\n",
       "   Infant mortality (per 1000 births)  GDP ($ per capita)  Literacy (%)  \\\n",
       "0                              163.07               700.0          36.0   \n",
       "1                               21.52              4500.0          86.5   \n",
       "2                               31.00              6000.0          70.0   \n",
       "3                                9.27              8000.0          97.0   \n",
       "4                                4.05             19000.0         100.0   \n",
       "\n",
       "   Phones (per 1000)  Birthrate  Deathrate  Industry  \n",
       "0                3.2      46.60      20.34     0.240  \n",
       "1               71.2      15.11       5.22     0.188  \n",
       "2               78.1      17.14       4.61     0.600  \n",
       "3              259.5      22.46       3.27       NaN  \n",
       "4              497.2       8.71       6.25       NaN  "
      ]
     },
     "execution_count": 33,
     "metadata": {},
     "output_type": "execute_result"
    }
   ],
   "source": [
    "data= data[[ 'Population', 'Area (sq. mi.)',\n",
    "       'Pop. Density (per sq. mi.)', 'Net migration',\n",
    "       'Infant mortality (per 1000 births)', 'GDP ($ per capita)',\n",
    "       'Literacy (%)', 'Phones (per 1000)', 'Birthrate', 'Deathrate',\n",
    "       'Industry']]\n",
    "data.head() "
   ]
  },
  {
   "cell_type": "code",
   "execution_count": 34,
   "id": "b4d576a1-3545-42b8-907b-9c3620fcb68a",
   "metadata": {},
   "outputs": [
    {
     "data": {
      "text/plain": [
       "Index(['Population', 'Area (sq. mi.)', 'Pop. Density (per sq. mi.)',\n",
       "       'Net migration', 'Infant mortality (per 1000 births)',\n",
       "       'GDP ($ per capita)', 'Literacy (%)', 'Phones (per 1000)', 'Birthrate',\n",
       "       'Deathrate', 'Industry'],\n",
       "      dtype='object')"
      ]
     },
     "execution_count": 34,
     "metadata": {},
     "output_type": "execute_result"
    }
   ],
   "source": [
    "data.columns"
   ]
  },
  {
   "cell_type": "code",
   "execution_count": 35,
   "id": "afb96d70-30fc-4655-8e0b-a7509380e607",
   "metadata": {},
   "outputs": [
    {
     "name": "stdout",
     "output_type": "stream",
     "text": [
      "Population                              int64\n",
      "Area (sq. mi.)                          int64\n",
      "Pop. Density (per sq. mi.)            float64\n",
      "Net migration                         float64\n",
      "Infant mortality (per 1000 births)    float64\n",
      "GDP ($ per capita)                    float64\n",
      "Literacy (%)                          float64\n",
      "Phones (per 1000)                     float64\n",
      "Birthrate                             float64\n",
      "Deathrate                             float64\n",
      "Industry                              float64\n",
      "dtype: object\n"
     ]
    }
   ],
   "source": [
    "print(data.dtypes)"
   ]
  },
  {
   "cell_type": "code",
   "execution_count": 36,
   "id": "ac0c7edf-e233-4145-8135-33ca2dc14bea",
   "metadata": {},
   "outputs": [],
   "source": [
    "newCorr = data.corr()"
   ]
  },
  {
   "cell_type": "code",
   "execution_count": null,
   "id": "152f44be-0f55-4faa-976d-4952661b8c29",
   "metadata": {},
   "outputs": [],
   "source": []
  },
  {
   "cell_type": "code",
   "execution_count": 37,
   "id": "0b2d53bb-f9ed-4cea-944f-e9616c74fc2a",
   "metadata": {},
   "outputs": [
    {
     "data": {
      "text/plain": [
       "<Axes: >"
      ]
     },
     "execution_count": 37,
     "metadata": {},
     "output_type": "execute_result"
    },
    {
     "data": {
      "image/png": "[encoded data removed]",
      "text/plain": [
       "<Figure size 640x480 with 2 Axes>"
      ]
     },
     "metadata": {},
     "output_type": "display_data"
    }
   ],
   "source": [
    "sns.heatmap(newCorr, xticklabels= newCorr.columns , yticklabels= newCorr.columns,annot=True, annot_kws={'fontsize':8 , 'fontweight': 'bold'})"
   ]
  },
  {
   "cell_type": "code",
   "execution_count": 68,
   "id": "5d53bf23-951c-443c-89b5-940c109480d5",
   "metadata": {},
   "outputs": [],
   "source": [
    "median_value = data['GDP ($ per capita)'].median()\n",
    "data['GDP ($ per capita)'].fillna(median_value,inplace=True)"
   ]
  },
  {
   "cell_type": "code",
   "execution_count": 69,
   "id": "df432c8b-8ad8-4345-ad58-b519ee8ed367",
   "metadata": {},
   "outputs": [],
   "source": [
    "x = data.drop(['GDP ($ per capita)'], axis=1)\n",
    "y = data['GDP ($ per capita)']"
   ]
  },
  {
   "cell_type": "code",
   "execution_count": 70,
   "id": "d2b3daa5-9bc5-4827-bde6-f16c5ccfc51b",
   "metadata": {},
   "outputs": [],
   "source": [
    "x_train, x_test, y_train, y_test = train_test_split(x, y, test_size = 0.3, random_state = 64)"
   ]
  },
  {
   "cell_type": "code",
   "execution_count": 71,
   "id": "b43c09f2-69e7-40a5-b606-e6c90853e789",
   "metadata": {},
   "outputs": [
    {
     "data": {
      "text/plain": [
       "((158, 10), (69, 10))"
      ]
     },
     "execution_count": 71,
     "metadata": {},
     "output_type": "execute_result"
    }
   ],
   "source": [
    "x_train.shape, x_test.shape"
   ]
  },
  {
   "cell_type": "code",
   "execution_count": 72,
   "id": "59e4e90d-d79b-4f3e-af07-38692e46adaa",
   "metadata": {},
   "outputs": [
    {
     "data": {
      "text/plain": [
       "Population                             0\n",
       "Area (sq. mi.)                         0\n",
       "Pop. Density (per sq. mi.)             0\n",
       "Net migration                          3\n",
       "Infant mortality (per 1000 births)     3\n",
       "Literacy (%)                          13\n",
       "Phones (per 1000)                      3\n",
       "Birthrate                              2\n",
       "Deathrate                              3\n",
       "Industry                              13\n",
       "dtype: int64"
      ]
     },
     "execution_count": 72,
     "metadata": {},
     "output_type": "execute_result"
    }
   ],
   "source": [
    "# check missing values in numerical variables in X_train\n",
    "x_train.isnull().sum()"
   ]
  },
  {
   "cell_type": "code",
   "execution_count": 73,
   "id": "b41adfb6-05b9-4c71-bad3-3354f2ecdc0e",
   "metadata": {},
   "outputs": [
    {
     "data": {
      "text/plain": [
       "Population                            0\n",
       "Area (sq. mi.)                        0\n",
       "Pop. Density (per sq. mi.)            0\n",
       "Net migration                         0\n",
       "Infant mortality (per 1000 births)    0\n",
       "Literacy (%)                          5\n",
       "Phones (per 1000)                     1\n",
       "Birthrate                             1\n",
       "Deathrate                             1\n",
       "Industry                              3\n",
       "dtype: int64"
      ]
     },
     "execution_count": 73,
     "metadata": {},
     "output_type": "execute_result"
    }
   ],
   "source": [
    "x_test.isnull().sum()"
   ]
  },
  {
   "cell_type": "code",
   "execution_count": 74,
   "id": "37d88053-4b6a-4f16-8ae2-a5d77a7299dd",
   "metadata": {},
   "outputs": [
    {
     "name": "stdout",
     "output_type": "stream",
     "text": [
      "Net migration 0.019\n",
      "Infant mortality (per 1000 births) 0.019\n",
      "Literacy (%) 0.0823\n",
      "Phones (per 1000) 0.019\n",
      "Birthrate 0.0127\n",
      "Deathrate 0.019\n",
      "Industry 0.0823\n"
     ]
    }
   ],
   "source": [
    "# print percentage of missing values in the numerical variables in training set\n",
    "for col in x_train.columns:\n",
    "    if x_train[col].isnull().mean()>0:\n",
    "        print(col, round(x_train[col].isnull().mean(),4))"
   ]
  },
  {
   "cell_type": "code",
   "execution_count": 75,
   "id": "78d657f9-41d8-4b2a-b40f-7cdc548f9555",
   "metadata": {},
   "outputs": [],
   "source": [
    "# impute missing values in X_train and X_test with respective column median in X_train\n",
    "for df1 in [x_train, x_test]:\n",
    "    for col in x_train.columns:\n",
    "        col_median=x_train[col].median()\n",
    "        df1[col].fillna(col_median, inplace=True) "
   ]
  },
  {
   "cell_type": "code",
   "execution_count": 76,
   "id": "61b43ca8-450e-4be7-bf87-26a86bbcb544",
   "metadata": {},
   "outputs": [
    {
     "data": {
      "text/plain": [
       "Population                            0\n",
       "Area (sq. mi.)                        0\n",
       "Pop. Density (per sq. mi.)            0\n",
       "Net migration                         0\n",
       "Infant mortality (per 1000 births)    0\n",
       "Literacy (%)                          0\n",
       "Phones (per 1000)                     0\n",
       "Birthrate                             0\n",
       "Deathrate                             0\n",
       "Industry                              0\n",
       "dtype: int64"
      ]
     },
     "execution_count": 76,
     "metadata": {},
     "output_type": "execute_result"
    }
   ],
   "source": [
    "# check again missing values in numerical variables in X_train\n",
    "x_train.isnull().sum()"
   ]
  },
  {
   "cell_type": "code",
   "execution_count": 77,
   "id": "a0951d05-0d8d-4217-8198-77314d066f6e",
   "metadata": {},
   "outputs": [
    {
     "data": {
      "text/plain": [
       "Population                            0\n",
       "Area (sq. mi.)                        0\n",
       "Pop. Density (per sq. mi.)            0\n",
       "Net migration                         0\n",
       "Infant mortality (per 1000 births)    0\n",
       "Literacy (%)                          0\n",
       "Phones (per 1000)                     0\n",
       "Birthrate                             0\n",
       "Deathrate                             0\n",
       "Industry                              0\n",
       "dtype: int64"
      ]
     },
     "execution_count": 77,
     "metadata": {},
     "output_type": "execute_result"
    }
   ],
   "source": [
    "# check missing values in numerical variables in X_test\n",
    "x_test.isnull().sum()"
   ]
  },
  {
   "cell_type": "code",
   "execution_count": 78,
   "id": "29f2766e-37f9-45b6-8034-e1df45e1c607",
   "metadata": {},
   "outputs": [],
   "source": [
    "median_value = data['GDP ($ per capita)'].median()\n",
    "data['GDP ($ per capita)'].fillna(median_value,inplace=True)"
   ]
  },
  {
   "cell_type": "code",
   "execution_count": 79,
   "id": "54f5012b-e155-45a6-a0ae-8704e3c13af8",
   "metadata": {},
   "outputs": [
    {
     "name": "stdout",
     "output_type": "stream",
     "text": [
      "0\n"
     ]
    }
   ],
   "source": [
    "print(data['GDP ($ per capita)'].isnull().sum())"
   ]
  },
  {
   "cell_type": "code",
   "execution_count": 80,
   "id": "59cdac70-b619-4f36-9f78-bc0cf63aa794",
   "metadata": {},
   "outputs": [
    {
     "data": {
      "text/plain": [
       "0"
      ]
     },
     "execution_count": 80,
     "metadata": {},
     "output_type": "execute_result"
    }
   ],
   "source": [
    "y_test.isnull().sum()"
   ]
  },
  {
   "cell_type": "code",
   "execution_count": 81,
   "id": "d9dcc1fe-2dc1-4a7a-b81e-72389f08acc3",
   "metadata": {},
   "outputs": [
    {
     "data": {
      "text/plain": [
       "0"
      ]
     },
     "execution_count": 81,
     "metadata": {},
     "output_type": "execute_result"
    }
   ],
   "source": [
    "y_train.isnull().sum()"
   ]
  },
  {
   "cell_type": "code",
   "execution_count": 82,
   "id": "e9bfe167-e688-43b9-8ced-538cbc7a929a",
   "metadata": {},
   "outputs": [],
   "source": [
    "knn = KNeighborsClassifier(n_neighbors=1)"
   ]
  },
  {
   "cell_type": "code",
   "execution_count": 83,
   "id": "e9f64859-65a8-4667-8348-aa6887cce2e8",
   "metadata": {},
   "outputs": [
    {
     "data": {
      "text/html": [
       "<style>#sk-container-id-1 {color: black;}#sk-container-id-1 pre{padding: 0;}#sk-container-id-1 div.sk-toggleable {background-color: white;}#sk-container-id-1 label.sk-toggleable__label {cursor: pointer;display: block;width: 100%;margin-bottom: 0;padding: 0.3em;box-sizing: border-box;text-align: center;}#sk-container-id-1 label.sk-toggleable__label-arrow:before {content: \"▸\";float: left;margin-right: 0.25em;color: #696969;}#sk-container-id-1 label.sk-toggleable__label-arrow:hover:before {color: black;}#sk-container-id-1 div.sk-estimator:hover label.sk-toggleable__label-arrow:before {color: black;}#sk-container-id-1 div.sk-toggleable__content {max-height: 0;max-width: 0;overflow: hidden;text-align: left;background-color: #f0f8ff;}#sk-container-id-1 div.sk-toggleable__content pre {margin: 0.2em;color: black;border-radius: 0.25em;background-color: #f0f8ff;}#sk-container-id-1 input.sk-toggleable__control:checked~div.sk-toggleable__content {max-height: 200px;max-width: 100%;overflow: auto;}#sk-container-id-1 input.sk-toggleable__control:checked~label.sk-toggleable__label-arrow:before {content: \"▾\";}#sk-container-id-1 div.sk-estimator input.sk-toggleable__control:checked~label.sk-toggleable__label {background-color: #d4ebff;}#sk-container-id-1 div.sk-label input.sk-toggleable__control:checked~label.sk-toggleable__label {background-color: #d4ebff;}#sk-container-id-1 input.sk-hidden--visually {border: 0;clip: rect(1px 1px 1px 1px);clip: rect(1px, 1px, 1px, 1px);height: 1px;margin: -1px;overflow: hidden;padding: 0;position: absolute;width: 1px;}#sk-container-id-1 div.sk-estimator {font-family: monospace;background-color: #f0f8ff;border: 1px dotted black;border-radius: 0.25em;box-sizing: border-box;margin-bottom: 0.5em;}#sk-container-id-1 div.sk-estimator:hover {background-color: #d4ebff;}#sk-container-id-1 div.sk-parallel-item::after {content: \"\";width: 100%;border-bottom: 1px solid gray;flex-grow: 1;}#sk-container-id-1 div.sk-label:hover label.sk-toggleable__label {background-color: #d4ebff;}#sk-container-id-1 div.sk-serial::before {content: \"\";position: absolute;border-left: 1px solid gray;box-sizing: border-box;top: 0;bottom: 0;left: 50%;z-index: 0;}#sk-container-id-1 div.sk-serial {display: flex;flex-direction: column;align-items: center;background-color: white;padding-right: 0.2em;padding-left: 0.2em;position: relative;}#sk-container-id-1 div.sk-item {position: relative;z-index: 1;}#sk-container-id-1 div.sk-parallel {display: flex;align-items: stretch;justify-content: center;background-color: white;position: relative;}#sk-container-id-1 div.sk-item::before, #sk-container-id-1 div.sk-parallel-item::before {content: \"\";position: absolute;border-left: 1px solid gray;box-sizing: border-box;top: 0;bottom: 0;left: 50%;z-index: -1;}#sk-container-id-1 div.sk-parallel-item {display: flex;flex-direction: column;z-index: 1;position: relative;background-color: white;}#sk-container-id-1 div.sk-parallel-item:first-child::after {align-self: flex-end;width: 50%;}#sk-container-id-1 div.sk-parallel-item:last-child::after {align-self: flex-start;width: 50%;}#sk-container-id-1 div.sk-parallel-item:only-child::after {width: 0;}#sk-container-id-1 div.sk-dashed-wrapped {border: 1px dashed gray;margin: 0 0.4em 0.5em 0.4em;box-sizing: border-box;padding-bottom: 0.4em;background-color: white;}#sk-container-id-1 div.sk-label label {font-family: monospace;font-weight: bold;display: inline-block;line-height: 1.2em;}#sk-container-id-1 div.sk-label-container {text-align: center;}#sk-container-id-1 div.sk-container {/* jupyter's `normalize.less` sets `[hidden] { display: none; }` but bootstrap.min.css set `[hidden] { display: none !important; }` so we also need the `!important` here to be able to override the default hidden behavior on the sphinx rendered scikit-learn.org. See: https://github.com/scikit-learn/scikit-learn/issues/21755 */display: inline-block !important;position: relative;}#sk-container-id-1 div.sk-text-repr-fallback {display: none;}</style><div id=\"sk-container-id-1\" class=\"sk-top-container\"><div class=\"sk-text-repr-fallback\"><pre>KNeighborsClassifier(n_neighbors=1)</pre><b>In a Jupyter environment, please rerun this cell to show the HTML representation or trust the notebook. <br />On GitHub, the HTML representation is unable to render, please try loading this page with nbviewer.org.</b></div><div class=\"sk-container\" hidden><div class=\"sk-item\"><div class=\"sk-estimator sk-toggleable\"><input class=\"sk-toggleable__control sk-hidden--visually\" id=\"sk-estimator-id-1\" type=\"checkbox\" checked><label for=\"sk-estimator-id-1\" class=\"sk-toggleable__label sk-toggleable__label-arrow\">KNeighborsClassifier</label><div class=\"sk-toggleable__content\"><pre>KNeighborsClassifier(n_neighbors=1)</pre></div></div></div></div></div>"
      ],
      "text/plain": [
       "KNeighborsClassifier(n_neighbors=1)"
      ]
     },
     "execution_count": 83,
     "metadata": {},
     "output_type": "execute_result"
    }
   ],
   "source": [
    "knn.fit(x_train, y_train)"
   ]
  },
  {
   "cell_type": "code",
   "execution_count": 84,
   "id": "a5882c1b-0989-42a1-9d19-38617121aa0d",
   "metadata": {},
   "outputs": [],
   "source": [
    "prediction = knn.predict(x_test)"
   ]
  },
  {
   "cell_type": "code",
   "execution_count": 85,
   "id": "25879c9b-9b6e-4be1-8b9d-97d0612e192f",
   "metadata": {},
   "outputs": [
    {
     "data": {
      "text/plain": [
       "array([  800.,  1400.,  2000.,  1900., 17500.,  7800., 37800., 19000.,\n",
       "        6900., 27400., 18000., 10600., 18600., 19000.,  4000., 31100.,\n",
       "        4900., 16000.,  3500.,  2000.,   800.,  2000.,   800., 28800.,\n",
       "       21000., 30000., 37800., 16900.,  3000.,   800.,  3000.,  1700.,\n",
       "       27400.,  2600., 19800., 31100.,  5400.,  1200., 55100.,  2500.,\n",
       "       19800.,  1800.,  2600.,  4000., 16800.,   800.,  3500., 25000.,\n",
       "         500., 11400., 11400.,  9100., 19000.,  3900.,  1400., 12300.,\n",
       "        1400., 27600.,   900.,  9100.,  3500.,  6900.,  1100., 28600.,\n",
       "        6000.,  1700., 16900.,  1300.,  4600.])"
      ]
     },
     "execution_count": 85,
     "metadata": {},
     "output_type": "execute_result"
    }
   ],
   "source": [
    "prediction"
   ]
  },
  {
   "cell_type": "code",
   "execution_count": 87,
   "id": "9f9fe573-2850-47d8-957a-2f2a4f43ab1c",
   "metadata": {},
   "outputs": [
    {
     "name": "stdout",
     "output_type": "stream",
     "text": [
      "              precision    recall  f1-score   support\n",
      "\n",
      "       500.0       0.00      0.00      0.00         1\n",
      "       600.0       0.00      0.00      0.00         2\n",
      "       700.0       0.00      0.00      0.00         1\n",
      "       800.0       0.00      0.00      0.00         2\n",
      "       900.0       0.00      0.00      0.00         0\n",
      "      1000.0       0.00      0.00      0.00         1\n",
      "      1100.0       0.00      0.00      0.00         0\n",
      "      1200.0       0.00      0.00      0.00         0\n",
      "      1300.0       0.00      0.00      0.00         2\n",
      "      1400.0       0.00      0.00      0.00         0\n",
      "      1500.0       0.00      0.00      0.00         2\n",
      "      1600.0       0.00      0.00      0.00         2\n",
      "      1700.0       0.00      0.00      0.00         1\n",
      "      1800.0       1.00      0.33      0.50         3\n",
      "      1900.0       0.00      0.00      0.00         1\n",
      "      2000.0       0.00      0.00      0.00         0\n",
      "      2200.0       0.00      0.00      0.00         3\n",
      "      2300.0       0.00      0.00      0.00         1\n",
      "      2500.0       0.00      0.00      0.00         0\n",
      "      2600.0       0.00      0.00      0.00         0\n",
      "      2700.0       0.00      0.00      0.00         1\n",
      "      2900.0       0.00      0.00      0.00         3\n",
      "      3000.0       0.00      0.00      0.00         0\n",
      "      3300.0       0.00      0.00      0.00         1\n",
      "      3400.0       0.00      0.00      0.00         1\n",
      "      3500.0       0.00      0.00      0.00         0\n",
      "      3900.0       0.00      0.00      0.00         1\n",
      "      4000.0       0.00      0.00      0.00         0\n",
      "      4300.0       0.00      0.00      0.00         1\n",
      "      4600.0       0.00      0.00      0.00         0\n",
      "      4800.0       0.00      0.00      0.00         2\n",
      "      4900.0       0.00      0.00      0.00         0\n",
      "      5000.0       0.00      0.00      0.00         1\n",
      "      5100.0       0.00      0.00      0.00         1\n",
      "      5400.0       0.00      0.00      0.00         0\n",
      "      5500.0       0.00      0.00      0.00         1\n",
      "      5600.0       0.00      0.00      0.00         1\n",
      "      5800.0       0.00      0.00      0.00         1\n",
      "      6000.0       0.00      0.00      0.00         1\n",
      "      6300.0       0.00      0.00      0.00         1\n",
      "      6700.0       0.00      0.00      0.00         1\n",
      "      6900.0       0.00      0.00      0.00         0\n",
      "      7600.0       0.00      0.00      0.00         1\n",
      "      7800.0       0.00      0.00      0.00         0\n",
      "      8300.0       0.00      0.00      0.00         1\n",
      "      9000.0       0.00      0.00      0.00         2\n",
      "      9100.0       0.00      0.00      0.00         0\n",
      "      9900.0       0.00      0.00      0.00         1\n",
      "     10200.0       0.00      0.00      0.00         1\n",
      "     10600.0       0.00      0.00      0.00         0\n",
      "     11000.0       0.00      0.00      0.00         1\n",
      "     11400.0       0.00      0.00      0.00         1\n",
      "     12300.0       0.00      0.00      0.00         0\n",
      "     12500.0       0.00      0.00      0.00         1\n",
      "     12800.0       0.00      0.00      0.00         1\n",
      "     13100.0       0.00      0.00      0.00         1\n",
      "     13900.0       0.00      0.00      0.00         1\n",
      "     14400.0       0.00      0.00      0.00         1\n",
      "     15000.0       0.00      0.00      0.00         1\n",
      "     15700.0       0.00      0.00      0.00         2\n",
      "     16000.0       0.00      0.00      0.00         0\n",
      "     16700.0       0.00      0.00      0.00         1\n",
      "     16800.0       0.00      0.00      0.00         0\n",
      "     16900.0       0.00      0.00      0.00         0\n",
      "     17200.0       0.00      0.00      0.00         1\n",
      "     17500.0       0.00      0.00      0.00         1\n",
      "     18000.0       0.00      0.00      0.00         0\n",
      "     18600.0       0.00      0.00      0.00         0\n",
      "     19000.0       0.00      0.00      0.00         1\n",
      "     19200.0       0.00      0.00      0.00         1\n",
      "     19800.0       0.00      0.00      0.00         0\n",
      "     20000.0       0.00      0.00      0.00         1\n",
      "     21000.0       0.00      0.00      0.00         0\n",
      "     21600.0       0.00      0.00      0.00         1\n",
      "     23200.0       0.00      0.00      0.00         1\n",
      "     25000.0       0.00      0.00      0.00         0\n",
      "     26800.0       0.00      0.00      0.00         1\n",
      "     27400.0       0.00      0.00      0.00         0\n",
      "     27600.0       0.00      0.00      0.00         1\n",
      "     27700.0       0.00      0.00      0.00         1\n",
      "     28600.0       0.00      0.00      0.00         0\n",
      "     28800.0       0.00      0.00      0.00         0\n",
      "     29600.0       0.00      0.00      0.00         1\n",
      "     30000.0       0.00      0.00      0.00         0\n",
      "     31100.0       0.00      0.00      0.00         0\n",
      "     34600.0       0.00      0.00      0.00         1\n",
      "     37800.0       0.00      0.00      0.00         0\n",
      "     55100.0       0.00      0.00      0.00         0\n",
      "\n",
      "    accuracy                           0.01        69\n",
      "   macro avg       0.01      0.00      0.01        69\n",
      "weighted avg       0.04      0.01      0.02        69\n",
      "\n"
     ]
    },
    {
     "name": "stderr",
     "output_type": "stream",
     "text": [
      "C:\\Users\\HP\\anaconda3\\envs\\khushi\\lib\\site-packages\\sklearn\\metrics\\_classification.py:1469: UndefinedMetricWarning: Precision and F-score are ill-defined and being set to 0.0 in labels with no predicted samples. Use `zero_division` parameter to control this behavior.\n",
      "  _warn_prf(average, modifier, msg_start, len(result))\n",
      "C:\\Users\\HP\\anaconda3\\envs\\khushi\\lib\\site-packages\\sklearn\\metrics\\_classification.py:1469: UndefinedMetricWarning: Recall and F-score are ill-defined and being set to 0.0 in labels with no true samples. Use `zero_division` parameter to control this behavior.\n",
      "  _warn_prf(average, modifier, msg_start, len(result))\n",
      "C:\\Users\\HP\\anaconda3\\envs\\khushi\\lib\\site-packages\\sklearn\\metrics\\_classification.py:1469: UndefinedMetricWarning: Precision and F-score are ill-defined and being set to 0.0 in labels with no predicted samples. Use `zero_division` parameter to control this behavior.\n",
      "  _warn_prf(average, modifier, msg_start, len(result))\n",
      "C:\\Users\\HP\\anaconda3\\envs\\khushi\\lib\\site-packages\\sklearn\\metrics\\_classification.py:1469: UndefinedMetricWarning: Recall and F-score are ill-defined and being set to 0.0 in labels with no true samples. Use `zero_division` parameter to control this behavior.\n",
      "  _warn_prf(average, modifier, msg_start, len(result))\n",
      "C:\\Users\\HP\\anaconda3\\envs\\khushi\\lib\\site-packages\\sklearn\\metrics\\_classification.py:1469: UndefinedMetricWarning: Precision and F-score are ill-defined and being set to 0.0 in labels with no predicted samples. Use `zero_division` parameter to control this behavior.\n",
      "  _warn_prf(average, modifier, msg_start, len(result))\n",
      "C:\\Users\\HP\\anaconda3\\envs\\khushi\\lib\\site-packages\\sklearn\\metrics\\_classification.py:1469: UndefinedMetricWarning: Recall and F-score are ill-defined and being set to 0.0 in labels with no true samples. Use `zero_division` parameter to control this behavior.\n",
      "  _warn_prf(average, modifier, msg_start, len(result))\n"
     ]
    }
   ],
   "source": [
    "from sklearn.metrics import classification_report\n",
    "print(classification_report(y_test , prediction)) "
   ]
  },
  {
   "cell_type": "code",
   "execution_count": 88,
   "id": "a0f45843-2456-474a-918e-eeece6b09d5e",
   "metadata": {},
   "outputs": [],
   "source": [
    "from sklearn.metrics import confusion_matrix\n",
    "cm = confusion_matrix(y_test, prediction)"
   ]
  },
  {
   "cell_type": "code",
   "execution_count": 89,
   "id": "81ab6ce4-6e80-4c0d-b073-c138c68ed49a",
   "metadata": {},
   "outputs": [
    {
     "data": {
      "text/plain": [
       "array([[0, 0, 0, ..., 0, 0, 0],\n",
       "       [0, 0, 0, ..., 0, 0, 0],\n",
       "       [0, 0, 0, ..., 0, 0, 0],\n",
       "       ...,\n",
       "       [0, 0, 0, ..., 0, 0, 0],\n",
       "       [0, 0, 0, ..., 0, 0, 0],\n",
       "       [0, 0, 0, ..., 0, 0, 0]], dtype=int64)"
      ]
     },
     "execution_count": 89,
     "metadata": {},
     "output_type": "execute_result"
    }
   ],
   "source": [
    "cm"
   ]
  },
  {
   "cell_type": "code",
   "execution_count": 90,
   "id": "ce10d566-4801-49f9-836a-fe2ee3d64137",
   "metadata": {},
   "outputs": [
    {
     "name": "stdout",
     "output_type": "stream",
     "text": [
      "Confusion matrix\n",
      "\n",
      " [[0 0 0 ... 0 0 0]\n",
      " [0 0 0 ... 0 0 0]\n",
      " [0 0 0 ... 0 0 0]\n",
      " ...\n",
      " [0 0 0 ... 0 0 0]\n",
      " [0 0 0 ... 0 0 0]\n",
      " [0 0 0 ... 0 0 0]]\n",
      "\n",
      "True Positives(TP) =  0\n",
      "\n",
      "True Negatives(TN) =  0\n",
      "\n",
      "False Positives(FP) =  0\n",
      "\n",
      "False Negatives(FN) =  0\n"
     ]
    }
   ],
   "source": [
    "print('Confusion matrix\\n\\n', cm)\n",
    "\n",
    "print('\\nTrue Positives(TP) = ', cm[0,0])\n",
    "\n",
    "print('\\nTrue Negatives(TN) = ', cm[1,1])\n",
    "\n",
    "print('\\nFalse Positives(FP) = ', cm[0,1])\n",
    "\n",
    "print('\\nFalse Negatives(FN) = ', cm[1,0])"
   ]
  },
  {
   "cell_type": "code",
   "execution_count": 94,
   "id": "a311b7bb-075e-4c1d-93d7-26276019ad9a",
   "metadata": {},
   "outputs": [],
   "source": [
    "from sklearn.metrics import accuracy_score"
   ]
  },
  {
   "cell_type": "code",
   "execution_count": 99,
   "id": "bf0774f2-567f-4b96-8c90-7c3ec5832ee2",
   "metadata": {},
   "outputs": [
    {
     "name": "stdout",
     "output_type": "stream",
     "text": [
      "k = 1 , Accuracy = 0.014492753623188406\n",
      "k = 2 , Accuracy = 0.014492753623188406\n",
      "k = 3 , Accuracy = 0.0\n",
      "k = 4 , Accuracy = 0.0\n",
      "k = 5 , Accuracy = 0.0\n",
      "k = 6 , Accuracy = 0.028985507246376812\n",
      "k = 7 , Accuracy = 0.043478260869565216\n",
      "k = 8 , Accuracy = 0.043478260869565216\n",
      "k = 9 , Accuracy = 0.043478260869565216\n",
      "k = 10 , Accuracy = 0.043478260869565216\n",
      "k = 11 , Accuracy = 0.043478260869565216\n",
      "k = 12 , Accuracy = 0.028985507246376812\n",
      "k = 13 , Accuracy = 0.028985507246376812\n",
      "k = 14 , Accuracy = 0.028985507246376812\n",
      "k = 15 , Accuracy = 0.028985507246376812\n",
      "k = 16 , Accuracy = 0.028985507246376812\n",
      "k = 17 , Accuracy = 0.028985507246376812\n",
      "k = 18 , Accuracy = 0.028985507246376812\n",
      "k = 19 , Accuracy = 0.014492753623188406\n",
      "k = 20 , Accuracy = 0.014492753623188406\n",
      "k = 21 , Accuracy = 0.014492753623188406\n",
      "k = 22 , Accuracy = 0.014492753623188406\n",
      "k = 23 , Accuracy = 0.014492753623188406\n",
      "k = 24 , Accuracy = 0.014492753623188406\n",
      "k = 25 , Accuracy = 0.014492753623188406\n",
      "k = 26 , Accuracy = 0.014492753623188406\n",
      "k = 27 , Accuracy = 0.014492753623188406\n",
      "k = 28 , Accuracy = 0.014492753623188406\n",
      "k = 29 , Accuracy = 0.014492753623188406\n",
      "k = 30 , Accuracy = 0.014492753623188406\n",
      "k = 31 , Accuracy = 0.014492753623188406\n",
      "k = 32 , Accuracy = 0.014492753623188406\n",
      "k = 33 , Accuracy = 0.014492753623188406\n",
      "k = 34 , Accuracy = 0.014492753623188406\n",
      "k = 35 , Accuracy = 0.014492753623188406\n",
      "k = 36 , Accuracy = 0.014492753623188406\n",
      "k = 37 , Accuracy = 0.014492753623188406\n",
      "k = 38 , Accuracy = 0.014492753623188406\n",
      "k = 39 , Accuracy = 0.014492753623188406\n",
      "k = 40 , Accuracy = 0.0\n",
      "k = 41 , Accuracy = 0.0\n",
      "k = 42 , Accuracy = 0.0\n",
      "k = 43 , Accuracy = 0.0\n",
      "k = 44 , Accuracy = 0.014492753623188406\n",
      "k = 45 , Accuracy = 0.0\n",
      "k = 46 , Accuracy = 0.0\n",
      "k = 47 , Accuracy = 0.0\n",
      "k = 48 , Accuracy = 0.0\n",
      "k = 49 , Accuracy = 0.014492753623188406\n",
      "k = 50 , Accuracy = 0.014492753623188406\n"
     ]
    }
   ],
   "source": [
    "accuracy_scores=[]\n",
    "for k in range(1, 51):\n",
    "    # Create KNN classifier with the current value of k\n",
    "    knn = KNeighborsClassifier(n_neighbors=k)\n",
    "    \n",
    "    # Train the classifier\n",
    "    knn.fit(x_train, y_train)\n",
    "    \n",
    "    # Predict the labels for the test set\n",
    "    prediction = knn.predict(x_test)\n",
    "    \n",
    "    # Calculate accuracy for the current value of k\n",
    "    accuracy = accuracy_score(y_test, prediction)\n",
    "    \n",
    "    # Append the accuracy score to the list\n",
    "    accuracy_scores.append((k, accuracy))\n",
    "\n",
    "# Print the accuracy scores for each value of k\n",
    "for k, accuracy in accuracy_scores:\n",
    "    print(\"k =\", k, \", Accuracy =\", accuracy)"
   ]
  },
  {
   "cell_type": "code",
   "execution_count": null,
   "id": "ef06cc35-2a55-4d91-a2a7-a666ac9ed914",
   "metadata": {},
   "outputs": [],
   "source": []
  },
  {
   "cell_type": "code",
   "execution_count": null,
   "id": "b05298c7-5d5d-4492-a187-b2675028338f",
   "metadata": {},
   "outputs": [],
   "source": []
  }
 ],
 "metadata": {
  "kernelspec": {
   "display_name": "Python 3 (ipykernel)",
   "language": "python",
   "name": "python3"
  },
  "language_info": {
   "codemirror_mode": {
    "name": "ipython",
    "version": 3
   },
   "file_extension": ".py",
   "mimetype": "text/x-python",
   "name": "python",
   "nbconvert_exporter": "python",
   "pygments_lexer": "ipython3",
   "version": "3.8.18"
  }
 },
 "nbformat": 4,
 "nbformat_minor": 5
}
